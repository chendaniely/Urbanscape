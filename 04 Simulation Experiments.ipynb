{
 "metadata": {
  "name": ""
 },
 "nbformat": 3,
 "nbformat_minor": 0,
 "worksheets": [
  {
   "cells": [
    {
     "cell_type": "markdown",
     "metadata": {},
     "source": [
      "# Run Experiments!"
     ]
    },
    {
     "cell_type": "code",
     "collapsed": false,
     "input": [
      "import UrbanScape.urbanscape as us"
     ],
     "language": "python",
     "metadata": {},
     "outputs": [],
     "prompt_number": 2
    },
    {
     "cell_type": "code",
     "collapsed": false,
     "input": [
      "# Use the run_experiments function to run an experiment of t time steps\n",
      "experiment1 = us.run_experiment(20, 100000, us.random_create_rule, 'CBD', steps = 10)"
     ],
     "language": "python",
     "metadata": {},
     "outputs": [],
     "prompt_number": 3
    },
    {
     "cell_type": "markdown",
     "metadata": {},
     "source": [
      "#Run Moar Experiments!"
     ]
    },
    {
     "cell_type": "code",
     "collapsed": false,
     "input": [
      "# Use the run_batch_experiments function to run x experiments of t time steps"
     ],
     "language": "python",
     "metadata": {},
     "outputs": []
    }
   ],
   "metadata": {}
  }
 ]
}